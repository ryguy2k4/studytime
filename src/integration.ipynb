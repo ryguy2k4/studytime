{
 "cells": [
  {
   "cell_type": "code",
   "execution_count": 3,
   "metadata": {},
   "outputs": [],
   "source": [
    "import pandas as pd"
   ]
  },
  {
   "cell_type": "code",
   "execution_count": 4,
   "metadata": {},
   "outputs": [],
   "source": [
    "def prepare_data(filename, term):\n",
    "    due_dates = []\n",
    "    courses = []\n",
    "    titles = []\n",
    "\n",
    "    df = pd.read_json(filename)\n",
    "\n",
    "    # parse titles\n",
    "    for title in df['title']:\n",
    "        # Has a due date\n",
    "        if str(title).startswith(('Sun', 'Mon', 'Tue', \"Wed\", \"Thu\", \"Fri\", \"Sat\")):\n",
    "            subs = str(title).split(' ')\n",
    "            due_dates.append(subs[1])\n",
    "            courses.append(subs[2])\n",
    "            titles.append(\" \".join(subs[3::]))\n",
    "        # Does not have a due date\n",
    "        else:\n",
    "            subs = str(title).split(' ')\n",
    "            due_dates.append(None)\n",
    "            courses.append(subs[0])\n",
    "            titles.append(\" \".join(subs[1::]))\n",
    "    df['due_date'] = due_dates\n",
    "    df['course'] = courses\n",
    "    df['title'] = titles\n",
    "\n",
    "    # interpret date format\n",
    "    df['start_date'] = pd.to_datetime(df['start_date'])\n",
    "    df['end_date'] = pd.to_datetime(df['end_date'])\n",
    "    year = df.iloc[0]['start_date'].year\n",
    "    df['due_date'] = pd.to_datetime(df['due_date'] + f\"/{year}\")\n",
    "\n",
    "    # interpret duration format\n",
    "    df['duration'] = pd.to_numeric(df['duration'].apply(lambda x: x.split(\" \")[0]))\n",
    "\n",
    "    # set term\n",
    "    df['term'] = term\n",
    "\n",
    "    # extract day of week\n",
    "    df[\"day of week\"] = df[\"start_date\"].apply(lambda x: x.day_name())\n",
    "    df[\"day of week\"] = pd.Categorical(df[\"day of week\"], categories=[\"Monday\", \"Tuesday\", \"Wednesday\", \"Thursday\", \"Friday\", \"Saturday\", \"Sunday\"], ordered=True)\n",
    "\n",
    "    # extract week\n",
    "    if term != 'fa23':\n",
    "        df[\"week\"] = df[\"start_date\"].apply(lambda x: x.week - df.iloc[0]['start_date'].week + 1)\n",
    "    else:\n",
    "        df[\"week\"] = df[\"start_date\"].apply(lambda x: x.week - 34 + 1)\n",
    "\n",
    "    # order dataframe\n",
    "    df = df[[\"term\", \"week\", \"day of week\", \"course\", \"duration\", \"start_date\", \"end_date\", 'due_date', 'title']]\n",
    "\n",
    "    return df"
   ]
  },
  {
   "cell_type": "code",
   "execution_count": 5,
   "metadata": {},
   "outputs": [
    {
     "name": "stderr",
     "output_type": "stream",
     "text": [
      "/var/folders/41/_gkgvhb94wd4156zplzr4cg00000gn/T/ipykernel_62261/242635943.py:27: UserWarning: Could not infer format, so each element will be parsed individually, falling back to `dateutil`. To ensure parsing is consistent and as-expected, please specify a format.\n",
      "  df['start_date'] = pd.to_datetime(df['start_date'])\n",
      "/var/folders/41/_gkgvhb94wd4156zplzr4cg00000gn/T/ipykernel_62261/242635943.py:28: UserWarning: Could not infer format, so each element will be parsed individually, falling back to `dateutil`. To ensure parsing is consistent and as-expected, please specify a format.\n",
      "  df['end_date'] = pd.to_datetime(df['end_date'])\n",
      "/var/folders/41/_gkgvhb94wd4156zplzr4cg00000gn/T/ipykernel_62261/242635943.py:27: UserWarning: Could not infer format, so each element will be parsed individually, falling back to `dateutil`. To ensure parsing is consistent and as-expected, please specify a format.\n",
      "  df['start_date'] = pd.to_datetime(df['start_date'])\n",
      "/var/folders/41/_gkgvhb94wd4156zplzr4cg00000gn/T/ipykernel_62261/242635943.py:28: UserWarning: Could not infer format, so each element will be parsed individually, falling back to `dateutil`. To ensure parsing is consistent and as-expected, please specify a format.\n",
      "  df['end_date'] = pd.to_datetime(df['end_date'])\n",
      "/var/folders/41/_gkgvhb94wd4156zplzr4cg00000gn/T/ipykernel_62261/242635943.py:27: UserWarning: Could not infer format, so each element will be parsed individually, falling back to `dateutil`. To ensure parsing is consistent and as-expected, please specify a format.\n",
      "  df['start_date'] = pd.to_datetime(df['start_date'])\n",
      "/var/folders/41/_gkgvhb94wd4156zplzr4cg00000gn/T/ipykernel_62261/242635943.py:28: UserWarning: Could not infer format, so each element will be parsed individually, falling back to `dateutil`. To ensure parsing is consistent and as-expected, please specify a format.\n",
      "  df['end_date'] = pd.to_datetime(df['end_date'])\n"
     ]
    }
   ],
   "source": [
    "# prepare semester data and apply correct course names\n",
    "fa23 = prepare_data(\"../data/raw/structured_export/fa23.json\", 'fa23')\n",
    "fa23['course'] = fa23['course'].replace({\"Hist\": \"HIST 164\", \"Math\": \"MATH 241\", \"Phys\": \"PHYS 213/214\", \"Stat\": \"STAT 107\"})\n",
    "fa23 = fa23[fa23['course'] != 'AIS']\n",
    "\n",
    "sp24 = prepare_data(\"../data/raw/structured_export/sp24.json\", 'sp24')\n",
    "sp24['course'] = sp24['course'].replace({\"Math\": \"MATH 257\", \"Anth\": \"ANTH 103\", \"Stat\": \"STAT 207\", \"Geol\": \"GEOL 107\", \"Astro\": \"ASTR 210\"})\n",
    "\n",
    "fa24 = prepare_data(\"../data/raw/structured_export/fa24.json\", 'fa24')\n",
    "fa24['course'] = fa24['course'].replace({\"Chem\": \"CHEM 102/103\", \"Aces\": \"ACES 179\", \"IS\": \"IS 477\", \"Geol\": \"GEOL 208\", \"Astro\": \"ASTR 310\"})\n",
    "fa24 = fa24[fa24['course'] != 'Research']\n",
    "\n",
    "sp25 = prepare_data(\"../data/raw/structured_export/sp25.json\", 'sp25')\n",
    "sp25['course'] = sp25['course'].replace({\"Chem\": \"CHEM 104/105\", \"CS\": \"CS 307\", \"Astro\": \"ASTR 405\", \"Geol\": \"GEOL 432\"})\n",
    "\n",
    "master = pd.concat([fa23, sp24, fa24, sp25])\n",
    "master.to_csv(\"../data/master/studytime.csv\", index=False)"
   ]
  }
 ],
 "metadata": {
  "kernelspec": {
   "display_name": ".venv",
   "language": "python",
   "name": "python3"
  },
  "language_info": {
   "codemirror_mode": {
    "name": "ipython",
    "version": 3
   },
   "file_extension": ".py",
   "mimetype": "text/x-python",
   "name": "python",
   "nbconvert_exporter": "python",
   "pygments_lexer": "ipython3",
   "version": "3.12.8"
  }
 },
 "nbformat": 4,
 "nbformat_minor": 2
}
