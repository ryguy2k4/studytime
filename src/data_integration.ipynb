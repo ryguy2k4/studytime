{
 "cells": [
  {
   "cell_type": "code",
   "execution_count": 1,
   "metadata": {},
   "outputs": [],
   "source": [
    "import pandas as pd"
   ]
  },
  {
   "cell_type": "code",
   "execution_count": 2,
   "metadata": {},
   "outputs": [],
   "source": [
    "def clean(filename: str, term: str):\n",
    "    df = pd.read_csv(filename)\n",
    "    df.rename(columns={\"Date\": \"date\"}, inplace=True)\n",
    "    df = df.melt(id_vars=[\"date\"], value_vars=df.columns[1::], var_name=\"class\", value_name=\"time spent (min)\")\n",
    "    df[\"date\"] = pd.to_datetime(df[\"date\"])\n",
    "    df = df.sort_values(\"date\", ascending=True)\n",
    "    df[\"term\"] = term\n",
    "    df[\"day of week\"] = df[\"date\"].apply(lambda x: x.day_name())\n",
    "    df[\"day of week\"] = pd.Categorical(df[\"day of week\"], categories=[\"Sunday\", \"Monday\", \"Tuesday\", \"Wednesday\", \"Thursday\", \"Friday\", \"Saturday\"], ordered=True)\n",
    "    df[\"week\"] = df[\"date\"].apply(lambda x: x.week - df.iloc[0]['date'].week + 1)\n",
    "    df = df[[\"term\", \"week\", \"day of week\", \"class\", \"time spent (min)\"]]\n",
    "    return df"
   ]
  },
  {
   "cell_type": "code",
   "execution_count": 3,
   "metadata": {},
   "outputs": [
    {
     "name": "stderr",
     "output_type": "stream",
     "text": [
      "/var/folders/41/_gkgvhb94wd4156zplzr4cg00000gn/T/ipykernel_2689/2628478573.py:5: UserWarning: Could not infer format, so each element will be parsed individually, falling back to `dateutil`. To ensure parsing is consistent and as-expected, please specify a format.\n",
      "  df[\"date\"] = pd.to_datetime(df[\"date\"])\n",
      "/var/folders/41/_gkgvhb94wd4156zplzr4cg00000gn/T/ipykernel_2689/2628478573.py:5: UserWarning: Could not infer format, so each element will be parsed individually, falling back to `dateutil`. To ensure parsing is consistent and as-expected, please specify a format.\n",
      "  df[\"date\"] = pd.to_datetime(df[\"date\"])\n",
      "/var/folders/41/_gkgvhb94wd4156zplzr4cg00000gn/T/ipykernel_2689/2628478573.py:5: UserWarning: Could not infer format, so each element will be parsed individually, falling back to `dateutil`. To ensure parsing is consistent and as-expected, please specify a format.\n",
      "  df[\"date\"] = pd.to_datetime(df[\"date\"])\n"
     ]
    }
   ],
   "source": [
    "fa23 = clean(\"../data/raw/StudyTimeFa23.csv\", 'fa23')\n",
    "sp24 = clean(\"../data/raw/StudyTimeSp24.csv\", 'sp24')\n",
    "fa24 = clean(\"../data/raw/StudyTimeFa24.csv\", 'fa24')\n",
    "master = pd.concat([fa23, sp24, fa24]).dropna()\n",
    "master.to_csv(\"../data/master/studytime.csv\", index=False)"
   ]
  },
  {
   "cell_type": "code",
   "execution_count": null,
   "metadata": {},
   "outputs": [],
   "source": []
  }
 ],
 "metadata": {
  "kernelspec": {
   "display_name": "base",
   "language": "python",
   "name": "python3"
  },
  "language_info": {
   "codemirror_mode": {
    "name": "ipython",
    "version": 3
   },
   "file_extension": ".py",
   "mimetype": "text/x-python",
   "name": "python",
   "nbconvert_exporter": "python",
   "pygments_lexer": "ipython3",
   "version": "3.12.4"
  }
 },
 "nbformat": 4,
 "nbformat_minor": 2
}
