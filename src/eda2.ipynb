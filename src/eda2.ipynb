{
 "cells": [
  {
   "cell_type": "code",
   "execution_count": 8,
   "metadata": {},
   "outputs": [],
   "source": [
    "import pandas as pd\n",
    "import seaborn as sns"
   ]
  },
  {
   "cell_type": "code",
   "execution_count": 9,
   "metadata": {},
   "outputs": [],
   "source": [
    "df = pd.read_csv(\"../data/master/studytime.csv\")\n",
    "df[\"day of week\"] = pd.Categorical(df[\"day of week\"], categories=[\"Sunday\", \"Monday\", \"Tuesday\", \"Wednesday\", \"Thursday\", \"Friday\", \"Saturday\"], ordered=True)\n"
   ]
  },
  {
   "cell_type": "code",
   "execution_count": 10,
   "metadata": {},
   "outputs": [
    {
     "data": {
      "text/html": [
       "<div>\n",
       "<style scoped>\n",
       "    .dataframe tbody tr th:only-of-type {\n",
       "        vertical-align: middle;\n",
       "    }\n",
       "\n",
       "    .dataframe tbody tr th {\n",
       "        vertical-align: top;\n",
       "    }\n",
       "\n",
       "    .dataframe thead th {\n",
       "        text-align: right;\n",
       "    }\n",
       "</style>\n",
       "<table border=\"1\" class=\"dataframe\">\n",
       "  <thead>\n",
       "    <tr style=\"text-align: right;\">\n",
       "      <th></th>\n",
       "      <th>term</th>\n",
       "      <th>week</th>\n",
       "      <th>day of week</th>\n",
       "      <th>class</th>\n",
       "      <th>time spent (min)</th>\n",
       "    </tr>\n",
       "  </thead>\n",
       "  <tbody>\n",
       "    <tr>\n",
       "      <th>0</th>\n",
       "      <td>fa23</td>\n",
       "      <td>5</td>\n",
       "      <td>Monday</td>\n",
       "      <td>PHYS 214</td>\n",
       "      <td>0.0</td>\n",
       "    </tr>\n",
       "    <tr>\n",
       "      <th>1</th>\n",
       "      <td>fa23</td>\n",
       "      <td>5</td>\n",
       "      <td>Monday</td>\n",
       "      <td>MATH 241</td>\n",
       "      <td>60.0</td>\n",
       "    </tr>\n",
       "    <tr>\n",
       "      <th>2</th>\n",
       "      <td>fa23</td>\n",
       "      <td>5</td>\n",
       "      <td>Monday</td>\n",
       "      <td>LAS 101</td>\n",
       "      <td>0.0</td>\n",
       "    </tr>\n",
       "    <tr>\n",
       "      <th>3</th>\n",
       "      <td>fa23</td>\n",
       "      <td>5</td>\n",
       "      <td>Monday</td>\n",
       "      <td>STAT 107</td>\n",
       "      <td>0.0</td>\n",
       "    </tr>\n",
       "    <tr>\n",
       "      <th>4</th>\n",
       "      <td>fa23</td>\n",
       "      <td>5</td>\n",
       "      <td>Tuesday</td>\n",
       "      <td>LAS 101</td>\n",
       "      <td>0.0</td>\n",
       "    </tr>\n",
       "    <tr>\n",
       "      <th>...</th>\n",
       "      <td>...</td>\n",
       "      <td>...</td>\n",
       "      <td>...</td>\n",
       "      <td>...</td>\n",
       "      <td>...</td>\n",
       "    </tr>\n",
       "    <tr>\n",
       "      <th>1195</th>\n",
       "      <td>fa24</td>\n",
       "      <td>10</td>\n",
       "      <td>Sunday</td>\n",
       "      <td>ASTR 310</td>\n",
       "      <td>0.0</td>\n",
       "    </tr>\n",
       "    <tr>\n",
       "      <th>1196</th>\n",
       "      <td>fa24</td>\n",
       "      <td>10</td>\n",
       "      <td>Sunday</td>\n",
       "      <td>CHEM 102</td>\n",
       "      <td>60.0</td>\n",
       "    </tr>\n",
       "    <tr>\n",
       "      <th>1197</th>\n",
       "      <td>fa24</td>\n",
       "      <td>10</td>\n",
       "      <td>Sunday</td>\n",
       "      <td>GEOL 208</td>\n",
       "      <td>0.0</td>\n",
       "    </tr>\n",
       "    <tr>\n",
       "      <th>1198</th>\n",
       "      <td>fa24</td>\n",
       "      <td>10</td>\n",
       "      <td>Sunday</td>\n",
       "      <td>IS 477</td>\n",
       "      <td>0.0</td>\n",
       "    </tr>\n",
       "    <tr>\n",
       "      <th>1199</th>\n",
       "      <td>fa24</td>\n",
       "      <td>10</td>\n",
       "      <td>Sunday</td>\n",
       "      <td>ACES 179</td>\n",
       "      <td>0.0</td>\n",
       "    </tr>\n",
       "  </tbody>\n",
       "</table>\n",
       "<p>1200 rows × 5 columns</p>\n",
       "</div>"
      ],
      "text/plain": [
       "      term  week day of week     class  time spent (min)\n",
       "0     fa23     5      Monday  PHYS 214               0.0\n",
       "1     fa23     5      Monday  MATH 241              60.0\n",
       "2     fa23     5      Monday   LAS 101               0.0\n",
       "3     fa23     5      Monday  STAT 107               0.0\n",
       "4     fa23     5     Tuesday   LAS 101               0.0\n",
       "...    ...   ...         ...       ...               ...\n",
       "1195  fa24    10      Sunday  ASTR 310               0.0\n",
       "1196  fa24    10      Sunday  CHEM 102              60.0\n",
       "1197  fa24    10      Sunday  GEOL 208               0.0\n",
       "1198  fa24    10      Sunday    IS 477               0.0\n",
       "1199  fa24    10      Sunday  ACES 179               0.0\n",
       "\n",
       "[1200 rows x 5 columns]"
      ]
     },
     "execution_count": 10,
     "metadata": {},
     "output_type": "execute_result"
    }
   ],
   "source": [
    "df"
   ]
  },
  {
   "cell_type": "code",
   "execution_count": 11,
   "metadata": {},
   "outputs": [
    {
     "name": "stderr",
     "output_type": "stream",
     "text": [
      "/var/folders/41/_gkgvhb94wd4156zplzr4cg00000gn/T/ipykernel_76760/4015013466.py:1: FutureWarning: The default of observed=False is deprecated and will be changed to True in a future version of pandas. Pass observed=False to retain current behavior or observed=True to adopt the future default and silence this warning.\n",
      "  df2 = df[df['term'] == 'sp24'].groupby(['day of week', 'class', 'term']).agg('mean').reset_index()[['day of week', 'class', 'time spent (min)']]\n"
     ]
    },
    {
     "data": {
      "text/plain": [
       "<Axes: xlabel='day of week', ylabel='time spent (min)'>"
      ]
     },
     "execution_count": 11,
     "metadata": {},
     "output_type": "execute_result"
    },
    {
     "data": {
      "image/png": "[encoded data removed]",
      "text/plain": [
       "<Figure size 640x480 with 1 Axes>"
      ]
     },
     "metadata": {},
     "output_type": "display_data"
    }
   ],
   "source": [
    "df2 = df[df['term'] == 'sp24'].groupby(['day of week', 'class', 'term']).agg('mean').reset_index()[['day of week', 'class', 'time spent (min)']]\n",
    "sns.barplot(df2, x='day of week', y='time spent (min)')"
   ]
  },
  {
   "cell_type": "code",
   "execution_count": 22,
   "metadata": {},
   "outputs": [
    {
     "data": {
      "text/html": [
       "<div>\n",
       "<style scoped>\n",
       "    .dataframe tbody tr th:only-of-type {\n",
       "        vertical-align: middle;\n",
       "    }\n",
       "\n",
       "    .dataframe tbody tr th {\n",
       "        vertical-align: top;\n",
       "    }\n",
       "\n",
       "    .dataframe thead th {\n",
       "        text-align: right;\n",
       "    }\n",
       "</style>\n",
       "<table border=\"1\" class=\"dataframe\">\n",
       "  <thead>\n",
       "    <tr style=\"text-align: right;\">\n",
       "      <th></th>\n",
       "      <th>time spent (min)</th>\n",
       "    </tr>\n",
       "    <tr>\n",
       "      <th>class</th>\n",
       "      <th></th>\n",
       "    </tr>\n",
       "  </thead>\n",
       "  <tbody>\n",
       "    <tr>\n",
       "      <th>ACES 179</th>\n",
       "      <td>169.0</td>\n",
       "    </tr>\n",
       "    <tr>\n",
       "      <th>ASTR 310</th>\n",
       "      <td>113.0</td>\n",
       "    </tr>\n",
       "    <tr>\n",
       "      <th>CHEM 102</th>\n",
       "      <td>172.5</td>\n",
       "    </tr>\n",
       "    <tr>\n",
       "      <th>CHEM 103</th>\n",
       "      <td>57.0</td>\n",
       "    </tr>\n",
       "    <tr>\n",
       "      <th>GEOL 208</th>\n",
       "      <td>66.0</td>\n",
       "    </tr>\n",
       "    <tr>\n",
       "      <th>IS 477</th>\n",
       "      <td>115.5</td>\n",
       "    </tr>\n",
       "  </tbody>\n",
       "</table>\n",
       "</div>"
      ],
      "text/plain": [
       "          time spent (min)\n",
       "class                     \n",
       "ACES 179             169.0\n",
       "ASTR 310             113.0\n",
       "CHEM 102             172.5\n",
       "CHEM 103              57.0\n",
       "GEOL 208              66.0\n",
       "IS 477               115.5"
      ]
     },
     "execution_count": 22,
     "metadata": {},
     "output_type": "execute_result"
    }
   ],
   "source": [
    "ave = df[df['term'] == 'fa24'][['week', 'class', 'time spent (min)']].groupby([\"week\", 'class']).agg('sum').reset_index().groupby(\"class\").agg('mean').reset_index()[['class', 'time spent (min)']].set_index('class')\n",
    "ave"
   ]
  },
  {
   "cell_type": "markdown",
   "metadata": {},
   "source": [
    "**I typically spend**\n",
    "* 1hr 06min on Geology per week,\n",
    "* 1hr 53min on Astronomy per week,\n",
    "* 2hr 52min on Chem per week,\n",
    "* 0hr 57min on Chem Lab per week,\n",
    "* 1hr 55min on IS per week\n",
    "* 2hr 49min on ACES per week\n",
    "\n",
    "**For a total of 11hr 33min of studying outside of class per week**"
   ]
  },
  {
   "cell_type": "code",
   "execution_count": null,
   "metadata": {},
   "outputs": [],
   "source": []
  }
 ],
 "metadata": {
  "kernelspec": {
   "display_name": "base",
   "language": "python",
   "name": "python3"
  },
  "language_info": {
   "codemirror_mode": {
    "name": "ipython",
    "version": 3
   },
   "file_extension": ".py",
   "mimetype": "text/x-python",
   "name": "python",
   "nbconvert_exporter": "python",
   "pygments_lexer": "ipython3",
   "version": "3.12.4"
  }
 },
 "nbformat": 4,
 "nbformat_minor": 2
}
